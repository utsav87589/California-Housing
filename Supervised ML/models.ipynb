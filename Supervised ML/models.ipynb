{
 "cells": [
  {
   "cell_type": "markdown",
   "id": "8fbc9736",
   "metadata": {},
   "source": [
    "## ML/DL based models"
   ]
  },
  {
   "cell_type": "code",
   "execution_count": 1,
   "id": "04725f4b",
   "metadata": {},
   "outputs": [],
   "source": [
    "import pandas as pd\n",
    "import numpy as np\n",
    "import seaborn as sns\n",
    "import matplotlib.pyplot as plt\n",
    "%matplotlib inline"
   ]
  },
  {
   "cell_type": "markdown",
   "id": "467ab041",
   "metadata": {},
   "source": [
    "### data loading"
   ]
  },
  {
   "cell_type": "code",
   "execution_count": 2,
   "id": "ab6ef8e0",
   "metadata": {},
   "outputs": [
    {
     "data": {
      "text/html": [
       "<div>\n",
       "<style scoped>\n",
       "    .dataframe tbody tr th:only-of-type {\n",
       "        vertical-align: middle;\n",
       "    }\n",
       "\n",
       "    .dataframe tbody tr th {\n",
       "        vertical-align: top;\n",
       "    }\n",
       "\n",
       "    .dataframe thead th {\n",
       "        text-align: right;\n",
       "    }\n",
       "</style>\n",
       "<table border=\"1\" class=\"dataframe\">\n",
       "  <thead>\n",
       "    <tr style=\"text-align: right;\">\n",
       "      <th></th>\n",
       "      <th>longitude</th>\n",
       "      <th>latitude</th>\n",
       "      <th>housing_median_age</th>\n",
       "      <th>median_income</th>\n",
       "      <th>median_house_value</th>\n",
       "      <th>ocean_proximity</th>\n",
       "      <th>rooms_per_bedroom</th>\n",
       "      <th>population_per_household</th>\n",
       "      <th>bedroom_per_household</th>\n",
       "      <th>room_per_household</th>\n",
       "    </tr>\n",
       "  </thead>\n",
       "  <tbody>\n",
       "    <tr>\n",
       "      <th>0</th>\n",
       "      <td>-122.23</td>\n",
       "      <td>37.88</td>\n",
       "      <td>41.0</td>\n",
       "      <td>8.3252</td>\n",
       "      <td>452600.0</td>\n",
       "      <td>2</td>\n",
       "      <td>6</td>\n",
       "      <td>2</td>\n",
       "      <td>1</td>\n",
       "      <td>6</td>\n",
       "    </tr>\n",
       "    <tr>\n",
       "      <th>1</th>\n",
       "      <td>-122.22</td>\n",
       "      <td>37.86</td>\n",
       "      <td>21.0</td>\n",
       "      <td>8.3014</td>\n",
       "      <td>358500.0</td>\n",
       "      <td>2</td>\n",
       "      <td>6</td>\n",
       "      <td>2</td>\n",
       "      <td>0</td>\n",
       "      <td>6</td>\n",
       "    </tr>\n",
       "    <tr>\n",
       "      <th>2</th>\n",
       "      <td>-122.24</td>\n",
       "      <td>37.85</td>\n",
       "      <td>52.0</td>\n",
       "      <td>7.2574</td>\n",
       "      <td>352100.0</td>\n",
       "      <td>2</td>\n",
       "      <td>7</td>\n",
       "      <td>2</td>\n",
       "      <td>1</td>\n",
       "      <td>8</td>\n",
       "    </tr>\n",
       "    <tr>\n",
       "      <th>3</th>\n",
       "      <td>-122.25</td>\n",
       "      <td>37.85</td>\n",
       "      <td>52.0</td>\n",
       "      <td>5.6431</td>\n",
       "      <td>341300.0</td>\n",
       "      <td>2</td>\n",
       "      <td>5</td>\n",
       "      <td>2</td>\n",
       "      <td>1</td>\n",
       "      <td>5</td>\n",
       "    </tr>\n",
       "    <tr>\n",
       "      <th>4</th>\n",
       "      <td>-122.25</td>\n",
       "      <td>37.85</td>\n",
       "      <td>52.0</td>\n",
       "      <td>3.8462</td>\n",
       "      <td>342200.0</td>\n",
       "      <td>2</td>\n",
       "      <td>5</td>\n",
       "      <td>2</td>\n",
       "      <td>1</td>\n",
       "      <td>6</td>\n",
       "    </tr>\n",
       "  </tbody>\n",
       "</table>\n",
       "</div>"
      ],
      "text/plain": [
       "   longitude  latitude  housing_median_age  median_income  median_house_value  \\\n",
       "0    -122.23     37.88                41.0         8.3252            452600.0   \n",
       "1    -122.22     37.86                21.0         8.3014            358500.0   \n",
       "2    -122.24     37.85                52.0         7.2574            352100.0   \n",
       "3    -122.25     37.85                52.0         5.6431            341300.0   \n",
       "4    -122.25     37.85                52.0         3.8462            342200.0   \n",
       "\n",
       "   ocean_proximity  rooms_per_bedroom  population_per_household  \\\n",
       "0                2                  6                         2   \n",
       "1                2                  6                         2   \n",
       "2                2                  7                         2   \n",
       "3                2                  5                         2   \n",
       "4                2                  5                         2   \n",
       "\n",
       "   bedroom_per_household  room_per_household  \n",
       "0                      1                   6  \n",
       "1                      0                   6  \n",
       "2                      1                   8  \n",
       "3                      1                   5  \n",
       "4                      1                   6  "
      ]
     },
     "execution_count": 2,
     "metadata": {},
     "output_type": "execute_result"
    }
   ],
   "source": [
    "df_trees = pd.read_csv('../data Cleaned/housing_trees.csv')\n",
    "df_trees.drop('Unnamed: 0', axis = 1, inplace = True)\n",
    "df_trees.head()"
   ]
  },
  {
   "cell_type": "code",
   "execution_count": 7,
   "id": "06bd6678",
   "metadata": {},
   "outputs": [],
   "source": [
    "# corr = df_trees.corr()['median_house_value'].sort_values(ascending = False)\n",
    "# print(corr)"
   ]
  },
  {
   "cell_type": "code",
   "execution_count": 3,
   "id": "7de51409",
   "metadata": {},
   "outputs": [
    {
     "data": {
      "text/html": [
       "<div>\n",
       "<style scoped>\n",
       "    .dataframe tbody tr th:only-of-type {\n",
       "        vertical-align: middle;\n",
       "    }\n",
       "\n",
       "    .dataframe tbody tr th {\n",
       "        vertical-align: top;\n",
       "    }\n",
       "\n",
       "    .dataframe thead th {\n",
       "        text-align: right;\n",
       "    }\n",
       "</style>\n",
       "<table border=\"1\" class=\"dataframe\">\n",
       "  <thead>\n",
       "    <tr style=\"text-align: right;\">\n",
       "      <th></th>\n",
       "      <th>longitude</th>\n",
       "      <th>latitude</th>\n",
       "      <th>housing_median_age</th>\n",
       "      <th>median_house_value</th>\n",
       "      <th>ocean_proximity</th>\n",
       "      <th>rooms_per_bedroom</th>\n",
       "      <th>population_per_household</th>\n",
       "      <th>bedroom_per_household</th>\n",
       "      <th>room_per_household</th>\n",
       "      <th>median_income</th>\n",
       "    </tr>\n",
       "  </thead>\n",
       "  <tbody>\n",
       "    <tr>\n",
       "      <th>0</th>\n",
       "      <td>0.211155</td>\n",
       "      <td>0.567481</td>\n",
       "      <td>0.784314</td>\n",
       "      <td>0.902266</td>\n",
       "      <td>2</td>\n",
       "      <td>6</td>\n",
       "      <td>2</td>\n",
       "      <td>1</td>\n",
       "      <td>6</td>\n",
       "      <td>1.000000</td>\n",
       "    </tr>\n",
       "    <tr>\n",
       "      <th>1</th>\n",
       "      <td>0.212151</td>\n",
       "      <td>0.565356</td>\n",
       "      <td>0.392157</td>\n",
       "      <td>0.708247</td>\n",
       "      <td>2</td>\n",
       "      <td>6</td>\n",
       "      <td>2</td>\n",
       "      <td>0</td>\n",
       "      <td>6</td>\n",
       "      <td>1.000000</td>\n",
       "    </tr>\n",
       "    <tr>\n",
       "      <th>2</th>\n",
       "      <td>0.210159</td>\n",
       "      <td>0.564293</td>\n",
       "      <td>1.000000</td>\n",
       "      <td>0.695051</td>\n",
       "      <td>2</td>\n",
       "      <td>7</td>\n",
       "      <td>2</td>\n",
       "      <td>1</td>\n",
       "      <td>8</td>\n",
       "      <td>0.877586</td>\n",
       "    </tr>\n",
       "    <tr>\n",
       "      <th>3</th>\n",
       "      <td>0.209163</td>\n",
       "      <td>0.564293</td>\n",
       "      <td>1.000000</td>\n",
       "      <td>0.672783</td>\n",
       "      <td>2</td>\n",
       "      <td>5</td>\n",
       "      <td>2</td>\n",
       "      <td>1</td>\n",
       "      <td>5</td>\n",
       "      <td>0.667939</td>\n",
       "    </tr>\n",
       "    <tr>\n",
       "      <th>4</th>\n",
       "      <td>0.209163</td>\n",
       "      <td>0.564293</td>\n",
       "      <td>1.000000</td>\n",
       "      <td>0.674638</td>\n",
       "      <td>2</td>\n",
       "      <td>5</td>\n",
       "      <td>2</td>\n",
       "      <td>1</td>\n",
       "      <td>6</td>\n",
       "      <td>0.434579</td>\n",
       "    </tr>\n",
       "  </tbody>\n",
       "</table>\n",
       "</div>"
      ],
      "text/plain": [
       "   longitude  latitude  housing_median_age  median_house_value  \\\n",
       "0   0.211155  0.567481            0.784314            0.902266   \n",
       "1   0.212151  0.565356            0.392157            0.708247   \n",
       "2   0.210159  0.564293            1.000000            0.695051   \n",
       "3   0.209163  0.564293            1.000000            0.672783   \n",
       "4   0.209163  0.564293            1.000000            0.674638   \n",
       "\n",
       "   ocean_proximity  rooms_per_bedroom  population_per_household  \\\n",
       "0                2                  6                         2   \n",
       "1                2                  6                         2   \n",
       "2                2                  7                         2   \n",
       "3                2                  5                         2   \n",
       "4                2                  5                         2   \n",
       "\n",
       "   bedroom_per_household  room_per_household  median_income  \n",
       "0                      1                   6       1.000000  \n",
       "1                      0                   6       1.000000  \n",
       "2                      1                   8       0.877586  \n",
       "3                      1                   5       0.667939  \n",
       "4                      1                   6       0.434579  "
      ]
     },
     "execution_count": 3,
     "metadata": {},
     "output_type": "execute_result"
    }
   ],
   "source": [
    "df_distance = pd.read_csv('../data Cleaned/housing_distance.csv')\n",
    "df_distance.drop('Unnamed: 0', axis = 1, inplace = True)\n",
    "df_distance.head()"
   ]
  },
  {
   "cell_type": "code",
   "execution_count": 6,
   "id": "172e1c3a",
   "metadata": {},
   "outputs": [],
   "source": [
    "# corr = df_distance.corr()['median_house_value'].sort_values(ascending = False)\n",
    "# print(corr)"
   ]
  },
  {
   "cell_type": "markdown",
   "id": "881b6a82",
   "metadata": {},
   "source": [
    "### making the train and the test data"
   ]
  },
  {
   "cell_type": "code",
   "execution_count": 8,
   "id": "261cf252",
   "metadata": {},
   "outputs": [],
   "source": [
    "from sklearn.model_selection import train_test_split"
   ]
  },
  {
   "cell_type": "code",
   "execution_count": 9,
   "id": "c220a4ad",
   "metadata": {},
   "outputs": [],
   "source": [
    "X_trees = df_trees.drop('median_house_value', axis = 1)\n",
    "y_trees = df_trees.median_house_value"
   ]
  },
  {
   "cell_type": "code",
   "execution_count": 12,
   "id": "5238f5ee",
   "metadata": {},
   "outputs": [],
   "source": [
    "X_distance = df_distance.drop('median_house_value', axis = 1)\n",
    "y_distance = df_distance.median_house_value"
   ]
  },
  {
   "cell_type": "code",
   "execution_count": 15,
   "id": "dbf9c576",
   "metadata": {},
   "outputs": [],
   "source": [
    "X_train_trees, X_test_trees, y_train_trees, y_test_trees = train_test_split(X_trees, y_trees, random_state = 42, test_size = 0.25)\n",
    "X_train_distance, X_test_distance, y_train_distance, y_test_distance = train_test_split(X_distance, y_distance, random_state = 42, test_size = 0.25)"
   ]
  },
  {
   "cell_type": "code",
   "execution_count": 16,
   "id": "24afb194",
   "metadata": {},
   "outputs": [
    {
     "name": "stdout",
     "output_type": "stream",
     "text": [
      "(15480, 9) : (15480,) :: (5160, 9) : (5160,)\n"
     ]
    }
   ],
   "source": [
    "print(f\"{X_train_trees.shape} : {y_train_trees.shape} :: {X_test_trees.shape} : {y_test_trees.shape}\")"
   ]
  },
  {
   "cell_type": "code",
   "execution_count": 17,
   "id": "c0832780",
   "metadata": {},
   "outputs": [
    {
     "name": "stdout",
     "output_type": "stream",
     "text": [
      "(15480, 9) : (15480,) :: (5160, 9) : (5160,)\n"
     ]
    }
   ],
   "source": [
    "print(f\"{X_train_distance.shape} : {y_train_distance.shape} :: {X_test_distance.shape} : {y_test_distance.shape}\")"
   ]
  },
  {
   "cell_type": "markdown",
   "id": "c4ee75e7",
   "metadata": {},
   "source": [
    "### writing the metrices and functions"
   ]
  },
  {
   "cell_type": "code",
   "execution_count": 19,
   "id": "4ae7a6bc",
   "metadata": {},
   "outputs": [],
   "source": [
    "from sklearn.metrics import r2_score, mean_absolute_error, mean_squared_error, root_mean_squared_error"
   ]
  },
  {
   "cell_type": "code",
   "execution_count": 21,
   "id": "66bb0479",
   "metadata": {},
   "outputs": [],
   "source": [
    "def metrices(y_test, y_pred) : \n",
    "    print(f\"r2 score : {r2_score(y_test, y_pred)}\")\n",
    "    print(f\"MAE : {mean_absolute_error(y_test, y_pred)}\")\n",
    "    print(f\"RMSE : {root_mean_squared_error(y_test, y_pred)}\")\n",
    "    print(f\"MSE : {mean_squared_error(y_test, y_pred)}\")"
   ]
  },
  {
   "cell_type": "code",
   "execution_count": 22,
   "id": "1162e945",
   "metadata": {},
   "outputs": [],
   "source": [
    "def plot_and_pred(y_test, y_pred) : \n",
    "    metrices(y_test, y_pred)\n",
    "    plt.figure(figsize=(10,6))\n",
    "    plt.subplot(1, 2, 1)\n",
    "    plt.scatter(y_test, y_pred, color='blue', alpha=0.5, label='Predicted')\n",
    "    plt.plot([y_test.min(), y_test.max()], [y_test.min(), y_test.max()],\n",
    "             color='red', linewidth=2, label='Perfect Prediction Line')\n",
    "    plt.xlabel('Actual Values (y_test)')\n",
    "    plt.ylabel('Predicted Values (y_pred)')\n",
    "    plt.legend()\n",
    "    plt.grid(True)\n",
    "   \n",
    "    plt.subplot(1, 2, 2)\n",
    "    plt.plot(y_test, label='Actual', color='blue', marker='o')\n",
    "    plt.plot(y_pred, label='Predicted', color='red', marker='x')\n",
    "    plt.xlabel('Index')\n",
    "    plt.ylabel('Target Value')\n",
    "    plt.legend()\n",
    "    plt.grid(True)\n",
    "    plt.show()"
   ]
  },
  {
   "cell_type": "markdown",
   "id": "85eb7a97",
   "metadata": {},
   "source": [
    "## Testing the models"
   ]
  },
  {
   "cell_type": "markdown",
   "id": "6e25f209",
   "metadata": {},
   "source": [
    "### Distance based models"
   ]
  },
  {
   "cell_type": "markdown",
   "id": "859f8a32",
   "metadata": {},
   "source": [
    "### 1. Linear regression"
   ]
  },
  {
   "cell_type": "code",
   "execution_count": 23,
   "id": "4c053b55",
   "metadata": {},
   "outputs": [
    {
     "name": "stdout",
     "output_type": "stream",
     "text": [
      "r2 score : 0.5761006935510993\n",
      "MAE : 0.11098079564839261\n",
      "RMSE : 0.154419997376468\n",
      "MSE : 0.023845535589748383\n"
     ]
    },
    {
     "data": {
      "image/png": "[encoded data removed]",
      "text/plain": [
       "<Figure size 1000x600 with 2 Axes>"
      ]
     },
     "metadata": {},
     "output_type": "display_data"
    }
   ],
   "source": [
    "from sklearn.linear_model import LinearRegression\n",
    "lr = LinearRegression()\n",
    "lr.fit(X_train_distance, y_train_distance)\n",
    "y_pred_lr = lr.predict(X_test_distance)\n",
    "plot_and_pred(y_test_distance, y_pred_lr)"
   ]
  },
  {
   "cell_type": "code",
   "execution_count": null,
   "id": "d7956b65",
   "metadata": {},
   "outputs": [],
   "source": []
  },
  {
   "cell_type": "code",
   "execution_count": null,
   "id": "656a6784",
   "metadata": {},
   "outputs": [],
   "source": []
  },
  {
   "cell_type": "code",
   "execution_count": null,
   "id": "f6597250",
   "metadata": {},
   "outputs": [],
   "source": []
  },
  {
   "cell_type": "code",
   "execution_count": null,
   "id": "8286bb34",
   "metadata": {},
   "outputs": [],
   "source": []
  },
  {
   "cell_type": "code",
   "execution_count": null,
   "id": "28d1333b",
   "metadata": {},
   "outputs": [],
   "source": []
  },
  {
   "cell_type": "code",
   "execution_count": null,
   "id": "de871bc8",
   "metadata": {},
   "outputs": [],
   "source": []
  },
  {
   "cell_type": "code",
   "execution_count": null,
   "id": "081d5fa6",
   "metadata": {},
   "outputs": [],
   "source": []
  },
  {
   "cell_type": "code",
   "execution_count": null,
   "id": "7c40ee2d",
   "metadata": {},
   "outputs": [],
   "source": []
  },
  {
   "cell_type": "code",
   "execution_count": null,
   "id": "c652f40c",
   "metadata": {},
   "outputs": [],
   "source": []
  },
  {
   "cell_type": "code",
   "execution_count": null,
   "id": "093ef688",
   "metadata": {},
   "outputs": [],
   "source": []
  },
  {
   "cell_type": "code",
   "execution_count": null,
   "id": "602745c2",
   "metadata": {},
   "outputs": [],
   "source": []
  },
  {
   "cell_type": "code",
   "execution_count": null,
   "id": "3dff95b6",
   "metadata": {},
   "outputs": [],
   "source": []
  },
  {
   "cell_type": "code",
   "execution_count": null,
   "id": "39727861",
   "metadata": {},
   "outputs": [],
   "source": []
  },
  {
   "cell_type": "code",
   "execution_count": null,
   "id": "3504ca3f",
   "metadata": {},
   "outputs": [],
   "source": []
  },
  {
   "cell_type": "code",
   "execution_count": null,
   "id": "cd755d02",
   "metadata": {},
   "outputs": [],
   "source": []
  },
  {
   "cell_type": "code",
   "execution_count": null,
   "id": "d32d060f",
   "metadata": {},
   "outputs": [],
   "source": []
  },
  {
   "cell_type": "code",
   "execution_count": null,
   "id": "15a52c88",
   "metadata": {},
   "outputs": [],
   "source": []
  },
  {
   "cell_type": "code",
   "execution_count": null,
   "id": "dc77733d",
   "metadata": {},
   "outputs": [],
   "source": []
  },
  {
   "cell_type": "code",
   "execution_count": null,
   "id": "c6a88632",
   "metadata": {},
   "outputs": [],
   "source": []
  },
  {
   "cell_type": "code",
   "execution_count": null,
   "id": "a9c65e67",
   "metadata": {},
   "outputs": [],
   "source": []
  },
  {
   "cell_type": "code",
   "execution_count": null,
   "id": "0afd38fc",
   "metadata": {},
   "outputs": [],
   "source": []
  },
  {
   "cell_type": "code",
   "execution_count": null,
   "id": "0155dcca",
   "metadata": {},
   "outputs": [],
   "source": []
  },
  {
   "cell_type": "code",
   "execution_count": null,
   "id": "939d512f",
   "metadata": {},
   "outputs": [],
   "source": []
  },
  {
   "cell_type": "code",
   "execution_count": null,
   "id": "5190dddc",
   "metadata": {},
   "outputs": [],
   "source": []
  },
  {
   "cell_type": "code",
   "execution_count": null,
   "id": "5051666b",
   "metadata": {},
   "outputs": [],
   "source": []
  },
  {
   "cell_type": "code",
   "execution_count": null,
   "id": "b81d3511",
   "metadata": {},
   "outputs": [],
   "source": []
  },
  {
   "cell_type": "code",
   "execution_count": null,
   "id": "330071f8",
   "metadata": {},
   "outputs": [],
   "source": []
  }
 ],
 "metadata": {
  "kernelspec": {
   "display_name": "venv",
   "language": "python",
   "name": "venv"
  },
  "language_info": {
   "codemirror_mode": {
    "name": "ipython",
    "version": 3
   },
   "file_extension": ".py",
   "mimetype": "text/x-python",
   "name": "python",
   "nbconvert_exporter": "python",
   "pygments_lexer": "ipython3",
   "version": "3.12.7"
  }
 },
 "nbformat": 4,
 "nbformat_minor": 5
}
